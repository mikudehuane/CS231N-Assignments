{
 "nbformat_minor": 2,
 "nbformat": 4,
 "cells": [
  {
   "source": [
    "# Dropout\n",
    "Dropout [1] is a technique for regularizing neural networks by randomly setting some output activations to zero during the forward pass. In this exercise you will implement a dropout layer and modify your fully-connected network to optionally use dropout.\n",
    "\n",
    "[1] [Geoffrey E. Hinton et al, \"Improving neural networks by preventing co-adaptation of feature detectors\", arXiv 2012](https://arxiv.org/abs/1207.0580)"
   ],
   "cell_type": "markdown",
   "metadata": {
    "tags": [
     "pdf-title"
    ]
   }
  },
  {
   "execution_count": 1,
   "cell_type": "code",
   "source": [
    "# As usual, a bit of setup\n",
    "from __future__ import print_function\n",
    "import time\n",
    "import numpy as np\n",
    "import matplotlib.pyplot as plt\n",
    "from cs231n.classifiers.fc_net import *\n",
    "from cs231n.data_utils import get_CIFAR10_data\n",
    "from cs231n.gradient_check import eval_numerical_gradient, eval_numerical_gradient_array\n",
    "from cs231n.solver import Solver\n",
    "\n",
    "%matplotlib inline\n",
    "plt.rcParams['figure.figsize'] = (10.0, 8.0) # set default size of plots\n",
    "plt.rcParams['image.interpolation'] = 'nearest'\n",
    "plt.rcParams['image.cmap'] = 'gray'\n",
    "\n",
    "# for auto-reloading external modules\n",
    "# see http://stackoverflow.com/questions/1907993/autoreload-of-modules-in-ipython\n",
    "%load_ext autoreload\n",
    "%autoreload 2\n",
    "\n",
    "def rel_error(x, y):\n",
    "  \"\"\" returns relative error \"\"\"\n",
    "  return np.max(np.abs(x - y) / (np.maximum(1e-8, np.abs(x) + np.abs(y))))"
   ],
   "outputs": [],
   "metadata": {
    "tags": [
     "pdf-ignore"
    ],
    "pycharm": {
     "is_executing": false
    }
   }
  },
  {
   "execution_count": 2,
   "cell_type": "code",
   "source": [
    "# Load the (preprocessed) CIFAR10 data.\n",
    "\n",
    "data = get_CIFAR10_data()\n",
    "for k, v in data.items():\n",
    "  print('%s: ' % k, v.shape)"
   ],
   "outputs": [
    {
     "name": "stdout",
     "text": [
      "X_train:  (49000, 3, 32, 32)\ny_train:  (49000,)\nX_val:  (1000, 3, 32, 32)\ny_val:  (1000,)\nX_test:  (1000, 3, 32, 32)\ny_test:  (1000,)\n"
     ],
     "output_type": "stream"
    }
   ],
   "metadata": {
    "tags": [
     "pdf-ignore"
    ],
    "pycharm": {
     "is_executing": false
    }
   }
  },
  {
   "source": [
    "# Dropout forward pass\n",
    "In the file `cs231n/layers.py`, implement the forward pass for dropout. Since dropout behaves differently during training and testing, make sure to implement the operation for both modes.\n",
    "\n",
    "Once you have done so, run the cell below to test your implementation."
   ],
   "cell_type": "markdown",
   "metadata": {}
  },
  {
   "execution_count": 11,
   "cell_type": "code",
   "source": [
    "np.random.seed(231)\n",
    "x = np.random.randn(500, 500) + 10\n",
    "\n",
    "for p in [0.25, 0.4, 0.7]:\n",
    "  out, _ = dropout_forward(x, {'mode': 'train', 'p': p})\n",
    "  out_test, _ = dropout_forward(x, {'mode': 'test', 'p': p})\n",
    "\n",
    "  print('Running tests with p = ', p)\n",
    "  print('Mean of input: ', x.mean())\n",
    "  print('Mean of train-time output: ', out.mean())\n",
    "  print('Mean of test-time output: ', out_test.mean())\n",
    "  print('Fraction of train-time output set to zero: ', (out == 0).mean())\n",
    "  print('Fraction of test-time output set to zero: ', (out_test == 0).mean())\n",
    "  print()"
   ],
   "outputs": [
    {
     "name": "stdout",
     "text": [
      "Running tests with p =  0.25\nMean of input:  10.000207878477502\nMean of train-time output:  10.014059116977283\nMean of test-time output:  10.000207878477502\nFraction of train-time output set to zero:  0.749784\nFraction of test-time output set to zero:  0.0\n\nRunning tests with p =  0.4\nMean of input:  10.000207878477502\nMean of train-time output:  9.977917658761159\nMean of test-time output:  10.000207878477502\nFraction of train-time output set to zero:  0.600796\nFraction of test-time output set to zero:  0.0\n\nRunning tests with p =  0.7\nMean of input:  10.000207878477502\nMean of train-time output:  9.987811912159426\nMean of test-time output:  10.000207878477502\nFraction of train-time output set to zero:  0.30074\nFraction of test-time output set to zero:  0.0\n\n"
     ],
     "output_type": "stream"
    }
   ],
   "metadata": {
    "pycharm": {
     "is_executing": false
    }
   }
  },
  {
   "source": [
    "# Dropout backward pass\n",
    "In the file `cs231n/layers.py`, implement the backward pass for dropout. After doing so, run the following cell to numerically gradient-check your implementation."
   ],
   "cell_type": "markdown",
   "metadata": {}
  },
  {
   "execution_count": 19,
   "cell_type": "code",
   "source": [
    "np.random.seed(231)\n",
    "x = np.random.randn(10, 10) + 10\n",
    "dout = np.random.randn(*x.shape)\n",
    "\n",
    "dropout_param = {'mode': 'train', 'p': 0.2, 'seed': 123}\n",
    "out, cache = dropout_forward(x, dropout_param)\n",
    "dx = dropout_backward(dout, cache)\n",
    "dx_num = eval_numerical_gradient_array(lambda xx: dropout_forward(xx, dropout_param)[0], x, dout)\n",
    "\n",
    "# Error should be around e-10 or less\n",
    "print('dx relative error: ', rel_error(dx, dx_num))"
   ],
   "outputs": [
    {
     "name": "stdout",
     "text": [
      "dx relative error:  5.44560814873387e-11\n"
     ],
     "output_type": "stream"
    }
   ],
   "metadata": {
    "pycharm": {
     "is_executing": false
    }
   }
  },
  {
   "source": [
    "## Inline Question 1:\n",
    "What happens if we do not divide the values being passed through inverse dropout by `p` in the dropout layer? Why does that happen?\n",
    "\n",
    "## Answer:\n",
    "[FILL THIS IN]\n"
   ],
   "cell_type": "markdown",
   "metadata": {
    "tags": [
     "pdf-inline"
    ]
   }
  },
  {
   "cell_type": "markdown",
   "source": [
    "# Fully-connected nets with Dropout\n",
    "In the file `cs231n/classifiers/fc_net.py`, modify your implementation to use dropout. Specifically, if the constructor of the network receives a value that is not 1 for the `dropout` parameter, then the net should add a dropout layer immediately after every ReLU nonlinearity. After doing so, run the following to numerically gradient-check your implementation."
   ],
   "metadata": {
    "collapsed": false
   }
  },
  {
   "execution_count": 3,
   "cell_type": "code",
   "source": [
    "np.random.seed(231)\n",
    "N, D, H1, H2, C = 2, 15, 20, 30, 10\n",
    "X = np.random.randn(N, D)\n",
    "y = np.random.randint(C, size=(N,))\n",
    "\n",
    "for dropout in [1, 0.75, 0.5]:\n",
    "  print('Running check with dropout = ', dropout)\n",
    "  model = FullyConnectedNet([H1, H2], input_dim=D, num_classes=C,\n",
    "                            weight_scale=5e-2, dtype=np.float64,\n",
    "                            dropout=dropout, seed=123)\n",
    "\n",
    "  loss, grads = model.loss(X, y)\n",
    "  print('Initial loss: ', loss)\n",
    "  \n",
    "  # Relative errors should be around e-6 or less; Note that it's fine\n",
    "  # if for dropout=1 you have W2 error be on the order of e-5.\n",
    "  for name in sorted(grads):\n",
    "    f = lambda _: model.loss(X, y)[0]\n",
    "    grad_num = eval_numerical_gradient(f, model.params[name], verbose=False, h=1e-5)\n",
    "    print('%s relative error: %.2e' % (name, rel_error(grad_num, grads[name])))\n",
    "  print()"
   ],
   "outputs": [
    {
     "name": "stdout",
     "text": [
      "Running check with dropout =  1\nInitial loss:  2.3004790897684924\nW1 relative error: 1.48e-07\n",
      "W2 relative error: 2.21e-05\nW3 relative error: 3.53e-07\nb1 relative error: 5.38e-09\nb2 relative error: 2.09e-09\nb3 relative error: 5.80e-11\n\nRunning check with dropout =  0.75\nInitial loss:  2.302371489704412\n",
      "W1 relative error: 1.90e-07\n",
      "W2 relative error: 4.76e-06\nW3 relative error: 2.60e-08\nb1 relative error: 4.73e-09\nb2 relative error: 1.82e-09\nb3 relative error: 1.70e-10\n\nRunning check with dropout =  0.5\nInitial loss:  2.3042759220785896\n",
      "W1 relative error: 3.11e-07\n",
      "W2 relative error: 1.84e-08\nW3 relative error: 5.35e-08\nb1 relative error: 2.58e-08\nb2 relative error: 2.99e-09\nb3 relative error: 1.13e-10\n\n"
     ],
     "output_type": "stream"
    }
   ],
   "metadata": {
    "pycharm": {
     "is_executing": false
    }
   }
  },
  {
   "cell_type": "markdown",
   "source": [
    "# Regularization experiment\n",
    "As an experiment, we will train a pair of two-layer networks on 500 training examples: one will use no dropout, and one will use a keep probability of 0.25. We will then visualize the training and validation accuracies of the two networks over time."
   ],
   "metadata": {
    "collapsed": false
   }
  },
  {
   "execution_count": 4,
   "cell_type": "code",
   "source": [
    "# Train two identical nets, one with dropout and one without\n",
    "np.random.seed(231)\n",
    "num_train = 500\n",
    "small_data = {\n",
    "  'X_train': data['X_train'][:num_train],\n",
    "  'y_train': data['y_train'][:num_train],\n",
    "  'X_val': data['X_val'],\n",
    "  'y_val': data['y_val'],\n",
    "}\n",
    "\n",
    "solvers = {}\n",
    "dropout_choices = [1, 0.25]\n",
    "for dropout in dropout_choices:\n",
    "  model = FullyConnectedNet([500], dropout=dropout)\n",
    "  print(dropout)\n",
    "\n",
    "  solver = Solver(model, small_data,\n",
    "                  num_epochs=25, batch_size=100,\n",
    "                  update_rule='adam',\n",
    "                  optim_config={\n",
    "                    'learning_rate': 5e-4,\n",
    "                  },\n",
    "                  verbose=True, print_every=100)\n",
    "  solver.train()\n",
    "  solvers[dropout] = solver\n",
    "  print()"
   ],
   "outputs": [
    {
     "name": "stdout",
     "text": [
      "1\n(Iteration 1 / 125) loss: 7.856643\n(Epoch 0 / 25) train acc: 0.260000; val_acc: 0.184000\n",
      "(Epoch 1 / 25) train acc: 0.416000; val_acc: 0.258000\n",
      "(Epoch 2 / 25) train acc: 0.482000; val_acc: 0.276000\n",
      "(Epoch 3 / 25) train acc: 0.532000; val_acc: 0.277000\n",
      "(Epoch 4 / 25) train acc: 0.600000; val_acc: 0.271000\n",
      "(Epoch 5 / 25) train acc: 0.708000; val_acc: 0.299000\n",
      "(Epoch 6 / 25) train acc: 0.722000; val_acc: 0.282000\n",
      "(Epoch 7 / 25) train acc: 0.832000; val_acc: 0.255000\n",
      "(Epoch 8 / 25) train acc: 0.878000; val_acc: 0.269000\n",
      "(Epoch 9 / 25) train acc: 0.902000; val_acc: 0.275000\n",
      "(Epoch 10 / 25) train acc: 0.890000; val_acc: 0.261000\n",
      "(Epoch 11 / 25) train acc: 0.930000; val_acc: 0.282000\n",
      "(Epoch 12 / 25) train acc: 0.958000; val_acc: 0.300000\n",
      "(Epoch 13 / 25) train acc: 0.964000; val_acc: 0.305000\n",
      "(Epoch 14 / 25) train acc: 0.962000; val_acc: 0.314000\n",
      "(Epoch 15 / 25) train acc: 0.964000; val_acc: 0.303000\n",
      "(Epoch 16 / 25) train acc: 0.984000; val_acc: 0.308000\n",
      "(Epoch 17 / 25) train acc: 0.974000; val_acc: 0.323000\n",
      "(Epoch 18 / 25) train acc: 0.992000; val_acc: 0.314000\n",
      "(Epoch 19 / 25) train acc: 0.986000; val_acc: 0.305000\n",
      "(Epoch 20 / 25) train acc: 0.984000; val_acc: 0.317000\n(Iteration 101 / 125) loss: 0.022275\n",
      "(Epoch 21 / 25) train acc: 0.998000; val_acc: 0.307000\n",
      "(Epoch 22 / 25) train acc: 0.984000; val_acc: 0.310000\n",
      "(Epoch 23 / 25) train acc: 0.984000; val_acc: 0.317000\n",
      "(Epoch 24 / 25) train acc: 0.986000; val_acc: 0.308000\n",
      "(Epoch 25 / 25) train acc: 0.994000; val_acc: 0.304000\n\n0.25\n",
      "(Iteration 1 / 125) loss: 17.318480\n(Epoch 0 / 25) train acc: 0.230000; val_acc: 0.177000\n",
      "(Epoch 1 / 25) train acc: 0.378000; val_acc: 0.243000\n",
      "(Epoch 2 / 25) train acc: 0.402000; val_acc: 0.254000\n",
      "(Epoch 3 / 25) train acc: 0.502000; val_acc: 0.276000\n",
      "(Epoch 4 / 25) train acc: 0.528000; val_acc: 0.298000\n",
      "(Epoch 5 / 25) train acc: 0.562000; val_acc: 0.296000\n",
      "(Epoch 6 / 25) train acc: 0.626000; val_acc: 0.291000\n",
      "(Epoch 7 / 25) train acc: 0.622000; val_acc: 0.297000\n",
      "(Epoch 8 / 25) train acc: 0.686000; val_acc: 0.313000\n",
      "(Epoch 9 / 25) train acc: 0.712000; val_acc: 0.297000\n",
      "(Epoch 10 / 25) train acc: 0.724000; val_acc: 0.305000\n",
      "(Epoch 11 / 25) train acc: 0.768000; val_acc: 0.309000\n",
      "(Epoch 12 / 25) train acc: 0.768000; val_acc: 0.289000\n",
      "(Epoch 13 / 25) train acc: 0.830000; val_acc: 0.302000\n",
      "(Epoch 14 / 25) train acc: 0.802000; val_acc: 0.359000\n",
      "(Epoch 15 / 25) train acc: 0.852000; val_acc: 0.343000\n",
      "(Epoch 16 / 25) train acc: 0.838000; val_acc: 0.305000\n",
      "(Epoch 17 / 25) train acc: 0.856000; val_acc: 0.294000\n",
      "(Epoch 18 / 25) train acc: 0.854000; val_acc: 0.309000\n",
      "(Epoch 19 / 25) train acc: 0.874000; val_acc: 0.320000\n",
      "(Epoch 20 / 25) train acc: 0.872000; val_acc: 0.299000\n(Iteration 101 / 125) loss: 4.680285\n",
      "(Epoch 21 / 25) train acc: 0.912000; val_acc: 0.328000\n",
      "(Epoch 22 / 25) train acc: 0.904000; val_acc: 0.305000\n",
      "(Epoch 23 / 25) train acc: 0.894000; val_acc: 0.309000\n",
      "(Epoch 24 / 25) train acc: 0.924000; val_acc: 0.327000\n",
      "(Epoch 25 / 25) train acc: 0.916000; val_acc: 0.309000\n\n"
     ],
     "output_type": "stream"
    }
   ],
   "metadata": {
    "scrolled": false,
    "pycharm": {
     "is_executing": false
    }
   }
  },
  {
   "execution_count": 5,
   "cell_type": "code",
   "source": [
    "# Plot train and validation accuracies of the two models\n",
    "\n",
    "train_accs = []\n",
    "val_accs = []\n",
    "for dropout in dropout_choices:\n",
    "  solver = solvers[dropout]\n",
    "  train_accs.append(solver.train_acc_history[-1])\n",
    "  val_accs.append(solver.val_acc_history[-1])\n",
    "\n",
    "plt.subplot(3, 1, 1)\n",
    "for dropout in dropout_choices:\n",
    "  plt.plot(solvers[dropout].train_acc_history, 'o', label='%.2f dropout' % dropout)\n",
    "plt.title('Train accuracy')\n",
    "plt.xlabel('Epoch')\n",
    "plt.ylabel('Accuracy')\n",
    "plt.legend(ncol=2, loc='lower right')\n",
    "  \n",
    "plt.subplot(3, 1, 2)\n",
    "for dropout in dropout_choices:\n",
    "  plt.plot(solvers[dropout].val_acc_history, 'o', label='%.2f dropout' % dropout)\n",
    "plt.title('Val accuracy')\n",
    "plt.xlabel('Epoch')\n",
    "plt.ylabel('Accuracy')\n",
    "plt.legend(ncol=2, loc='lower right')\n",
    "\n",
    "plt.gcf().set_size_inches(15, 15)\n",
    "plt.show()"
   ],
   "outputs": [
    {
     "data": {
      "text/plain": "<Figure size 1080x1080 with 2 Axes>",
      "image/png": "[encoded data removed]"
     },
     "metadata": {
      "needs_background": "light"
     },
     "output_type": "display_data"
    }
   ],
   "metadata": {
    "pycharm": {
     "is_executing": false
    }
   }
  },
  {
   "source": [
    "## Inline Question 2:\n",
    "Compare the validation and training accuracies with and without dropout -- what do your results suggest about dropout as a regularizer?\n",
    "\n",
    "## Answer:\n",
    "[FILL THIS IN]\n"
   ],
   "cell_type": "markdown",
   "metadata": {
    "tags": [
     "pdf-inline"
    ]
   }
  },
  {
   "source": [
    "## Inline Question 3:\n",
    "Suppose we are training a deep fully-connected network for image classification, with dropout after hidden layers (parameterized by keep probability p). If we are concerned about overfitting, how should we modify p (if at all) when we decide to decrease the size of the hidden layers (that is, the number of nodes in each layer)?\n",
    "\n",
    "## Answer:\n",
    "[FILL THIS IN]\n"
   ],
   "cell_type": "markdown",
   "metadata": {
    "tags": [
     "pdf-inline"
    ]
   }
  }
 ],
 "metadata": {
  "kernelspec": {
   "display_name": "Python 3",
   "name": "python3",
   "language": "python"
  },
  "language_info": {
   "mimetype": "text/x-python",
   "nbconvert_exporter": "python",
   "name": "python",
   "file_extension": ".py",
   "version": "3.7.1",
   "pygments_lexer": "ipython3",
   "codemirror_mode": {
    "version": 3,
    "name": "ipython"
   }
  },
  "pycharm": {
   "stem_cell": {
    "cell_type": "raw",
    "source": [],
    "metadata": {
     "collapsed": false
    }
   }
  }
 }
}